{
 "cells": [
  {
   "cell_type": "code",
   "execution_count": null,
   "id": "c87580bd",
   "metadata": {},
   "outputs": [],
   "source": [
    "import pandas as pd\n",
    "import numpy as np\n",
    "\n",
    "from sklearn.neighbors import KNeighborsClassifier\n",
    "from sklearn.naive_bayes import GaussianNB\n",
    "from sklearn.ensemble import VotingClassifier\n",
    "\n",
    "from sklearn.model_selection import train_test_split\n",
    "from sklearn.metrics import accuracy_score\n",
    "from sklearn import preprocessing"
   ]
  },
  {
   "cell_type": "code",
   "execution_count": null,
   "id": "d6721bb3",
   "metadata": {},
   "outputs": [],
   "source": [
    "data = np.array(pd.read_excel('feature.xlsx'))[:, 1 :]\n",
    "N, V = data.shape\n",
    "le = preprocessing.LabelEncoder()\n",
    "\n",
    "X = le.fit_transform([str(i) for i in np.concatenate(data)])\n",
    "X = X.reshape(N, V)\n",
    "y = X[:, 1]\n",
    " \n",
    "accuracy = []\n",
    "for I in range(30):\n",
    "    print(\"<> PERCOBAAN KE-{}\".format(I+1))\n",
    "    n_feature = np.random.randint(low=5, high=V)\n",
    "    feature = sorted(np.random.permutation(np.arange(V))[:n_feature])\n",
    "\n",
    "    print(\"   >> Jumlah Features       : {}\".format(n_feature))\n",
    "    print(\"   >> Feature yang Digunakan:\")\n",
    "    print(\"      {}\".format(\", \".join([\"F\"+str(i+1) for i in feature])))\n",
    "    \n",
    "    X_train, X_test, y_train, y_test = train_test_split(X, y, test_size=0.3)\n",
    "\n",
    "    clf1 = KNeighborsClassifier(n_neighbors=5, metric='hamming')\n",
    "    clf1.fit(X_train[:, feature], y_train)\n",
    "    y_pred1 = clf1.predict(X_test[:, feature])\n",
    "\n",
    "    clf2 = GaussianNB()\n",
    "    clf2.fit(X_train[:, feature], y_train)\n",
    "    y_pred2 = clf2.predict(X_test[:, feature])\n",
    "\n",
    "    eclf = VotingClassifier(estimators=[('knn', clf1), ('gnb', clf2)])\n",
    "    eclf.fit(X_train[:, feature], y_train)\n",
    "    y_pred3 = eclf.predict(X_test[:, feature])\n",
    "\n",
    "    acc1 = accuracy_score(y_test, y_pred1)\n",
    "    acc2 = accuracy_score(y_test, y_pred2)\n",
    "    acc3 = accuracy_score(y_test, y_pred3)\n",
    "\n",
    "    print(\"   >> Akurasi KNN           : {}%\".format(round(acc1 * 100, 2)))\n",
    "    print(\"   >> Akurasi GNB           : {}%\".format(round(acc2 * 100, 2)))\n",
    "    print(\"   >> Akurasi KNN + GNB     : {}%\".format(round(acc3 * 100, 2)), '\\n')\n",
    "\n",
    "    accuracy.append([acc1, acc2, acc3])\n",
    "\n",
    "print(\"*\" * 70)\n",
    "accuracy = np.array(accuracy)\n",
    "\n",
    "best1 = np.argsort(accuracy[:, 0])[:1]\n",
    "best2 = np.argsort(accuracy[:, 1])[:1]\n",
    "best3 = np.argsort(accuracy[:, 2])[:1]\n",
    "\n",
    "\n",
    "for best, name in zip([best1, best2, best3], \"KNN NAIVE-BAYES KNN+NAIVE-BAYES\".split()):\n",
    "    print(\"<> 1 PERCOBAAN TERBAIK {}:\".format(name))\n",
    "\n",
    "    for b in best:\n",
    "        print(\"   >> PERCOBAAN KE-{}\".format(b + 1))\n",
    "    print(\"\")"
   ]
  },
  {
   "cell_type": "code",
   "execution_count": null,
   "id": "3f4e44cd",
   "metadata": {},
   "outputs": [],
   "source": []
  }
 ],
 "metadata": {
  "kernelspec": {
   "display_name": "Python 3",
   "language": "python",
   "name": "python3"
  },
  "language_info": {
   "codemirror_mode": {
    "name": "ipython",
    "version": 3
   },
   "file_extension": ".py",
   "mimetype": "text/x-python",
   "name": "python",
   "nbconvert_exporter": "python",
   "pygments_lexer": "ipython3",
   "version": "3.8.8"
  }
 },
 "nbformat": 4,
 "nbformat_minor": 5
}
