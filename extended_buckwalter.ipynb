{
 "cells": [
  {
   "cell_type": "code",
   "execution_count": 2,
   "id": "aa1ac0bb",
   "metadata": {
    "pycharm": {
     "name": "#%%\n"
    }
   },
   "outputs": [],
   "source": [
    "import unicodedata as ud\n",
    "\n",
    "map_arabic = {\n",
    "\n",
    "    #letters\n",
    "    \"'\":'ء', '>':'أ', '&':'ؤ', '<':'إ', '}':'ئ', 'A':'ا',\n",
    "    'b':'ب', 'p':'ة', 't':'ت', 'v':'ث', 'j':'ج', 'H':'ح',\n",
    "    'x':'خ', 'd':'د', '*':'ذ', 'r':'ر', 'z':'ز', 's':'س',\n",
    "    '$':'ش', 'S':'ص', 'D':'ض', 'T':'ط', 'Z':'ظ', 'E':'ع',\n",
    "    'g':'غ', '_':'ـ', 'f':'ف', 'q':'ق', 'k':'ك', 'l':'ل',\n",
    "    'm':'م', 'n':'ن', 'h':'ه', 'w':'و', 'Y':'ى', 'y':'ي',\n",
    "    '`':'ٰ' , '{':'ٱ',\n",
    "\n",
    "    #diacritics\n",
    "    'F':'ً' , 'N':'ٌ' , 'K':'ٍ' , 'a':'َ' , 'u':'ُ' , 'i':'ِ' ,\n",
    "    '~':'ّ' , 'o':'ْ' , '^':'ٓ' , '#':'ٔ' ,\n",
    "\n",
    "    #symbols\n",
    "    '@':'۟' , '\"':'۟' , '[':'ۢ' , ';':'ۣ' , ',':'ۥ' , '.':'ۦ' ,\n",
    "    '!':'ۨ' , '-':'۪' , '+':'۫' , '%':'۬' , ']':'ۭ' , ':':'ۜ' ,\n",
    "    '؟':'؟'\n",
    "    }\n",
    "\n",
    "map_arabic2 = {\n",
    "    '1':'١', '2':'٢', '3':'٣', '4':'٤', '5':'٥',\n",
    "    '6':'٦', '7':'٧', '8':'٨', '9':'٩', '0':'۰',\n",
    "\n",
    "    ':':' ',\n",
    "    \n",
    "    'ACC' :'۰' , 'ADJ' :'١' , 'AMD' :'٢' , 'ANS' :'٣' , 'AVR' :'٤' ,\n",
    "    'CAUS':'٥' , 'CERT':'٦' , 'CIRC':'٧' , 'COM' :'٨' , 'COND':'٩' ,\n",
    "    'CONJ':'١۰', 'DEM' :'١١', 'DET' :'١٢', 'EMPH':'١٣', 'EQ'  :'١٤',\n",
    "    'EXH' :'١٥', 'EXL' :'١٦', 'EXP' :'١٧', 'FUT' :'١٨', 'IMPN':'١٩',\n",
    "    'IMPV':'٢۰', 'INC' :'٢١', 'INL' :'٢٢', 'INT' :'٢٣', 'INTG':'٢٤',\n",
    "    'LOC' :'٢٥', 'N'   :'٢٦', 'NEG' :'٢٧', 'P'   :'٢٨', 'PN'  :'٢٩',\n",
    "    'PREV':'٣۰', 'PRO' :'٣١', 'PRON':'٣٢', 'PRP' :'٣٣', 'REL' :'٣٤',\n",
    "    'REM' :'٣٥', 'RES' :'٣٦', 'RET' :'٣٧', 'RSLT':'٣٨', 'SUB' :'٣٩',\n",
    "    'SUP' :'٤۰', 'SUR' :'٤١', 'T'   :'٤٢', 'V'   :'٤٣', 'VOC' :'٤٤'}\n",
    "\n",
    "diacritics_trans = 'FNKaui~o^#'\n",
    "diacritics_arabs = ''.join(map(lambda x: map_arabic[x],diacritics_trans))\n",
    "diacritics = diacritics_trans+diacritics_arabs\n",
    "\n",
    "letters = ''.join([i for i in list(map_arabic.values()) if 'ARABIC LETTER' in ud.name(i)])\n",
    "\n",
    "def getletter(word):\n",
    "    temp = ''\n",
    "    for i in word:\n",
    "        if i in letters:\n",
    "            temp += i\n",
    "    return temp if temp != '' else '-'\n",
    "    \n",
    "def transliterate2(word):\n",
    "    try:\n",
    "        return ''.join(map(lambda x: map_arabic2[x],word))\n",
    "    except:\n",
    "        try:\n",
    "            return map_arabic2[word]\n",
    "        except:\n",
    "            temp = []\n",
    "            for i in word.split():\n",
    "                temp.append(map_arabic2[i])\n",
    "            return ' '.join(temp)\n",
    "\n",
    "def transliterate(word):\n",
    "    return ''.join(map(lambda x: map_arabic[x],word))\n",
    "\n",
    "def remove_diacritics(word):\n",
    "    for i in diacritics:\n",
    "        word = word.replace(i,'')\n",
    "    return word\n"
   ]
  }
 ],
 "metadata": {
  "kernelspec": {
   "display_name": "Python 3",
   "language": "python",
   "name": "python3"
  },
  "language_info": {
   "codemirror_mode": {
    "name": "ipython",
    "version": 3
   },
   "file_extension": ".py",
   "mimetype": "text/x-python",
   "name": "python",
   "nbconvert_exporter": "python",
   "pygments_lexer": "ipython3",
   "version": "3.8.8"
  }
 },
 "nbformat": 4,
 "nbformat_minor": 5
}